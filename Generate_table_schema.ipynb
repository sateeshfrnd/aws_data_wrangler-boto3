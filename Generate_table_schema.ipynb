{
 "cells": [
  {
   "cell_type": "code",
   "execution_count": 1,
   "id": "61981bed",
   "metadata": {},
   "outputs": [],
   "source": [
    "import awswrangler as wr\n",
    "import boto3\n",
    "\n",
    "aws_session = boto3.Session(region_name=\"us-east-1\")"
   ]
  },
  {
   "cell_type": "code",
   "execution_count": 2,
   "id": "a4efbeff",
   "metadata": {},
   "outputs": [
    {
     "data": {
      "text/html": [
       "<div>\n",
       "<style scoped>\n",
       "    .dataframe tbody tr th:only-of-type {\n",
       "        vertical-align: middle;\n",
       "    }\n",
       "\n",
       "    .dataframe tbody tr th {\n",
       "        vertical-align: top;\n",
       "    }\n",
       "\n",
       "    .dataframe thead th {\n",
       "        text-align: right;\n",
       "    }\n",
       "</style>\n",
       "<table border=\"1\" class=\"dataframe\">\n",
       "  <thead>\n",
       "    <tr style=\"text-align: right;\">\n",
       "      <th></th>\n",
       "      <th>Column Name</th>\n",
       "      <th>Type</th>\n",
       "      <th>Partition</th>\n",
       "      <th>Comment</th>\n",
       "    </tr>\n",
       "  </thead>\n",
       "  <tbody>\n",
       "    <tr>\n",
       "      <th>0</th>\n",
       "      <td>first_name</td>\n",
       "      <td>string</td>\n",
       "      <td>False</td>\n",
       "      <td></td>\n",
       "    </tr>\n",
       "    <tr>\n",
       "      <th>1</th>\n",
       "      <td>last_name</td>\n",
       "      <td>string</td>\n",
       "      <td>False</td>\n",
       "      <td></td>\n",
       "    </tr>\n",
       "    <tr>\n",
       "      <th>2</th>\n",
       "      <td>company_name</td>\n",
       "      <td>string</td>\n",
       "      <td>False</td>\n",
       "      <td></td>\n",
       "    </tr>\n",
       "    <tr>\n",
       "      <th>3</th>\n",
       "      <td>address</td>\n",
       "      <td>string</td>\n",
       "      <td>False</td>\n",
       "      <td></td>\n",
       "    </tr>\n",
       "    <tr>\n",
       "      <th>4</th>\n",
       "      <td>city</td>\n",
       "      <td>string</td>\n",
       "      <td>False</td>\n",
       "      <td></td>\n",
       "    </tr>\n",
       "    <tr>\n",
       "      <th>5</th>\n",
       "      <td>county</td>\n",
       "      <td>string</td>\n",
       "      <td>False</td>\n",
       "      <td></td>\n",
       "    </tr>\n",
       "    <tr>\n",
       "      <th>6</th>\n",
       "      <td>state</td>\n",
       "      <td>string</td>\n",
       "      <td>False</td>\n",
       "      <td></td>\n",
       "    </tr>\n",
       "    <tr>\n",
       "      <th>7</th>\n",
       "      <td>zip</td>\n",
       "      <td>string</td>\n",
       "      <td>False</td>\n",
       "      <td></td>\n",
       "    </tr>\n",
       "    <tr>\n",
       "      <th>8</th>\n",
       "      <td>phone1</td>\n",
       "      <td>string</td>\n",
       "      <td>False</td>\n",
       "      <td></td>\n",
       "    </tr>\n",
       "    <tr>\n",
       "      <th>9</th>\n",
       "      <td>phone2</td>\n",
       "      <td>string</td>\n",
       "      <td>False</td>\n",
       "      <td></td>\n",
       "    </tr>\n",
       "    <tr>\n",
       "      <th>10</th>\n",
       "      <td>email</td>\n",
       "      <td>string</td>\n",
       "      <td>False</td>\n",
       "      <td></td>\n",
       "    </tr>\n",
       "    <tr>\n",
       "      <th>11</th>\n",
       "      <td>web</td>\n",
       "      <td>string</td>\n",
       "      <td>False</td>\n",
       "      <td></td>\n",
       "    </tr>\n",
       "  </tbody>\n",
       "</table>\n",
       "</div>"
      ],
      "text/plain": [
       "     Column Name    Type  Partition Comment\n",
       "0     first_name  string      False        \n",
       "1      last_name  string      False        \n",
       "2   company_name  string      False        \n",
       "3        address  string      False        \n",
       "4           city  string      False        \n",
       "5         county  string      False        \n",
       "6          state  string      False        \n",
       "7            zip  string      False        \n",
       "8         phone1  string      False        \n",
       "9         phone2  string      False        \n",
       "10         email  string      False        \n",
       "11           web  string      False        "
      ]
     },
     "execution_count": 2,
     "metadata": {},
     "output_type": "execute_result"
    }
   ],
   "source": [
    "customers = wr.catalog.table(database=\"sampledb\", table=\"customer\")\n",
    "customers"
   ]
  },
  {
   "cell_type": "code",
   "execution_count": 3,
   "id": "c62169d2",
   "metadata": {},
   "outputs": [
    {
     "name": "stdout",
     "output_type": "stream",
     "text": [
      "0 first_name string False\n",
      "1 last_name string False\n",
      "2 company_name string False\n",
      "3 address string False\n",
      "4 city string False\n",
      "5 county string False\n",
      "6 state string False\n",
      "7 zip string False\n",
      "8 phone1 string False\n",
      "9 phone2 string False\n",
      "10 email string False\n",
      "11 web string False\n"
     ]
    }
   ],
   "source": [
    "for index, row in customers.iterrows():\n",
    "    print (index,row[\"Column Name\"], row[\"Type\"], row[\"Partition\"])"
   ]
  },
  {
   "cell_type": "code",
   "execution_count": 5,
   "id": "0690531f",
   "metadata": {},
   "outputs": [
    {
     "name": "stdout",
     "output_type": "stream",
     "text": [
      "-------------\n",
      "{'latest_scheam': {'columns': [{'name': 'first_name', 'dtype': 'string'}, {'name': 'last_name', 'dtype': 'string'}, {'name': 'company_name', 'dtype': 'string'}, {'name': 'address', 'dtype': 'string'}, {'name': 'city', 'dtype': 'string'}, {'name': 'county', 'dtype': 'string'}, {'name': 'state', 'dtype': 'string'}, {'name': 'zip', 'dtype': 'string'}, {'name': 'phone1', 'dtype': 'string'}, {'name': 'phone2', 'dtype': 'string'}, {'name': 'email', 'dtype': 'string'}, {'name': 'web', 'dtype': 'string'}], 'partition_cols': []}}\n"
     ]
    }
   ],
   "source": [
    "columns = []\n",
    "partition_cols = []\n",
    "for index, row in customers.iterrows():\n",
    "    col = {'name':row[\"Column Name\"], 'dtype':row[\"Type\"]} \n",
    "    if row[\"Partition\"]:\n",
    "        partition_cols.append(col)\n",
    "    else:\n",
    "        columns.append(col)\n",
    "    \n",
    "#print(columns)\n",
    "#print(partition_cols)\n",
    "\n",
    "print(\"-------------\")\n",
    "schema = {\n",
    "    'latest_scheam':\n",
    "    {'columns':columns, 'partition_cols':partition_cols} \n",
    "}\n",
    "print(schema)"
   ]
  },
  {
   "cell_type": "code",
   "execution_count": null,
   "id": "d276cadb",
   "metadata": {},
   "outputs": [],
   "source": []
  }
 ],
 "metadata": {
  "kernelspec": {
   "display_name": "Python 3",
   "language": "python",
   "name": "python3"
  },
  "language_info": {
   "codemirror_mode": {
    "name": "ipython",
    "version": 3
   },
   "file_extension": ".py",
   "mimetype": "text/x-python",
   "name": "python",
   "nbconvert_exporter": "python",
   "pygments_lexer": "ipython3",
   "version": "3.6.9"
  }
 },
 "nbformat": 4,
 "nbformat_minor": 5
}
