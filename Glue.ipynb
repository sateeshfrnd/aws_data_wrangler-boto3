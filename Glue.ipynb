{
 "cells": [
  {
   "cell_type": "code",
   "execution_count": 2,
   "id": "cc010786",
   "metadata": {},
   "outputs": [],
   "source": [
    "import awswrangler as wr\n",
    "import boto3"
   ]
  },
  {
   "cell_type": "code",
   "execution_count": 3,
   "id": "e52f36f0",
   "metadata": {},
   "outputs": [],
   "source": [
    "aws_session = boto3.Session(region_name=\"us-east-1\")"
   ]
  },
  {
   "cell_type": "markdown",
   "id": "ffea9f12",
   "metadata": {},
   "source": [
    "## Glue Catalog Databases"
   ]
  },
  {
   "cell_type": "code",
   "execution_count": 12,
   "id": "f579d926",
   "metadata": {},
   "outputs": [
    {
     "name": "stdout",
     "output_type": "stream",
     "text": [
      "   Database      Description\n",
      "0   default                 \n",
      "1  sampledb  Sample database\n"
     ]
    }
   ],
   "source": [
    "databases = wr.catalog.databases()\n",
    "print(databases)"
   ]
  },
  {
   "cell_type": "markdown",
   "id": "6db55657",
   "metadata": {},
   "source": [
    "## Create Database in Glue Catalog"
   ]
  },
  {
   "cell_type": "code",
   "execution_count": 13,
   "id": "915bbeaa",
   "metadata": {},
   "outputs": [],
   "source": [
    "wr.catalog.create_database(\"awswrangler_test_db\")"
   ]
  },
  {
   "cell_type": "code",
   "execution_count": 14,
   "id": "6173d898",
   "metadata": {},
   "outputs": [
    {
     "name": "stdout",
     "output_type": "stream",
     "text": [
      "              Database      Description\n",
      "0  awswrangler_test_db                 \n",
      "1              default                 \n",
      "2             sampledb  Sample database\n"
     ]
    }
   ],
   "source": [
    "databases = wr.catalog.databases()\n",
    "print(databases)"
   ]
  },
  {
   "cell_type": "markdown",
   "id": "3099572c",
   "metadata": {},
   "source": [
    "## Check table exists or not"
   ]
  },
  {
   "cell_type": "code",
   "execution_count": 4,
   "id": "758ef2e9",
   "metadata": {},
   "outputs": [
    {
     "data": {
      "text/plain": [
       "True"
      ]
     },
     "execution_count": 4,
     "metadata": {},
     "output_type": "execute_result"
    }
   ],
   "source": [
    "glue_table_exists = wr.catalog.does_table_exist('sampledb', 'customer', boto3_session=aws_session)\n",
    "glue_table_exists"
   ]
  },
  {
   "cell_type": "code",
   "execution_count": 5,
   "id": "5ab96a25",
   "metadata": {},
   "outputs": [
    {
     "data": {
      "text/plain": [
       "False"
      ]
     },
     "execution_count": 5,
     "metadata": {},
     "output_type": "execute_result"
    }
   ],
   "source": [
    "glue_table_exists = wr.catalog.does_table_exist('sampledb', 'customer1', boto3_session=aws_session)\n",
    "glue_table_exists"
   ]
  },
  {
   "cell_type": "markdown",
   "id": "cb6ea5ab",
   "metadata": {},
   "source": [
    "## Get the table location "
   ]
  },
  {
   "cell_type": "code",
   "execution_count": 6,
   "id": "1aa0b518",
   "metadata": {},
   "outputs": [
    {
     "data": {
      "text/plain": [
       "'s3://satish-boto3/athena/customer'"
      ]
     },
     "execution_count": 6,
     "metadata": {},
     "output_type": "execute_result"
    }
   ],
   "source": [
    "glue_table_location = wr.catalog.get_table_location('sampledb', 'customer', boto3_session=aws_session)\n",
    "glue_table_location"
   ]
  },
  {
   "cell_type": "markdown",
   "id": "765bdbcf",
   "metadata": {},
   "source": [
    "## Check is path exists in S3"
   ]
  },
  {
   "cell_type": "code",
   "execution_count": 8,
   "id": "adb2de72",
   "metadata": {},
   "outputs": [
    {
     "name": "stdout",
     "output_type": "stream",
     "text": [
      "True\n"
     ]
    }
   ],
   "source": [
    "s3_key = 's3://satish-boto3/athena/customer'\n",
    "if len(wr.s3.describe_objects(s3_key, boto3_session=aws_session)) > 0:\n",
    "    s3_key_exists = True\n",
    "else:\n",
    "    s3_key_exists = False\n",
    "    \n",
    "print(s3_key_exists)"
   ]
  },
  {
   "cell_type": "code",
   "execution_count": 9,
   "id": "b45d78b7",
   "metadata": {},
   "outputs": [
    {
     "name": "stdout",
     "output_type": "stream",
     "text": [
      "False\n"
     ]
    }
   ],
   "source": [
    "s3_key = 's3://satish-boto3/athena/customer12'\n",
    "if len(wr.s3.describe_objects(s3_key, boto3_session=aws_session)) > 0:\n",
    "    s3_key_exists = True\n",
    "else:\n",
    "    s3_key_exists = False\n",
    "    \n",
    "print(s3_key_exists)"
   ]
  },
  {
   "cell_type": "code",
   "execution_count": 11,
   "id": "29a6db68",
   "metadata": {},
   "outputs": [
    {
     "data": {
      "text/plain": [
       "False"
      ]
     },
     "execution_count": 11,
     "metadata": {},
     "output_type": "execute_result"
    }
   ],
   "source": [
    "wr.s3.does_object_exist('s3://satish-boto3/athena/customer',boto3_session=aws_session)"
   ]
  },
  {
   "cell_type": "markdown",
   "id": "667d5964",
   "metadata": {},
   "source": [
    "## Get tables in Database"
   ]
  },
  {
   "cell_type": "code",
   "execution_count": 15,
   "id": "0a0a5b94",
   "metadata": {},
   "outputs": [
    {
     "data": {
      "text/html": [
       "<div>\n",
       "<style scoped>\n",
       "    .dataframe tbody tr th:only-of-type {\n",
       "        vertical-align: middle;\n",
       "    }\n",
       "\n",
       "    .dataframe tbody tr th {\n",
       "        vertical-align: top;\n",
       "    }\n",
       "\n",
       "    .dataframe thead th {\n",
       "        text-align: right;\n",
       "    }\n",
       "</style>\n",
       "<table border=\"1\" class=\"dataframe\">\n",
       "  <thead>\n",
       "    <tr style=\"text-align: right;\">\n",
       "      <th></th>\n",
       "      <th>Database</th>\n",
       "      <th>Table</th>\n",
       "      <th>Description</th>\n",
       "      <th>Columns</th>\n",
       "      <th>Partitions</th>\n",
       "    </tr>\n",
       "  </thead>\n",
       "  <tbody>\n",
       "    <tr>\n",
       "      <th>0</th>\n",
       "      <td>sampledb</td>\n",
       "      <td>customer</td>\n",
       "      <td></td>\n",
       "      <td>first_name, last_name, company_name, address, ...</td>\n",
       "      <td></td>\n",
       "    </tr>\n",
       "    <tr>\n",
       "      <th>1</th>\n",
       "      <td>sampledb</td>\n",
       "      <td>elb_logs</td>\n",
       "      <td></td>\n",
       "      <td>request_timestamp, elb_name, request_ip, reque...</td>\n",
       "      <td></td>\n",
       "    </tr>\n",
       "  </tbody>\n",
       "</table>\n",
       "</div>"
      ],
      "text/plain": [
       "   Database     Table Description  \\\n",
       "0  sampledb  customer               \n",
       "1  sampledb  elb_logs               \n",
       "\n",
       "                                             Columns Partitions  \n",
       "0  first_name, last_name, company_name, address, ...             \n",
       "1  request_timestamp, elb_name, request_ip, reque...             "
      ]
     },
     "execution_count": 15,
     "metadata": {},
     "output_type": "execute_result"
    }
   ],
   "source": [
    "wr.catalog.tables(database='sampledb', boto3_session=aws_session)"
   ]
  },
  {
   "cell_type": "code",
   "execution_count": 16,
   "id": "fcec4409",
   "metadata": {},
   "outputs": [
    {
     "data": {
      "text/html": [
       "<div>\n",
       "<style scoped>\n",
       "    .dataframe tbody tr th:only-of-type {\n",
       "        vertical-align: middle;\n",
       "    }\n",
       "\n",
       "    .dataframe tbody tr th {\n",
       "        vertical-align: top;\n",
       "    }\n",
       "\n",
       "    .dataframe thead th {\n",
       "        text-align: right;\n",
       "    }\n",
       "</style>\n",
       "<table border=\"1\" class=\"dataframe\">\n",
       "  <thead>\n",
       "    <tr style=\"text-align: right;\">\n",
       "      <th></th>\n",
       "      <th>Database</th>\n",
       "      <th>Table</th>\n",
       "      <th>Description</th>\n",
       "      <th>Columns</th>\n",
       "      <th>Partitions</th>\n",
       "    </tr>\n",
       "  </thead>\n",
       "  <tbody>\n",
       "    <tr>\n",
       "      <th>0</th>\n",
       "      <td>sampledb</td>\n",
       "      <td>customer</td>\n",
       "      <td></td>\n",
       "      <td>first_name, last_name, company_name, address, ...</td>\n",
       "      <td></td>\n",
       "    </tr>\n",
       "  </tbody>\n",
       "</table>\n",
       "</div>"
      ],
      "text/plain": [
       "   Database     Table Description  \\\n",
       "0  sampledb  customer               \n",
       "\n",
       "                                             Columns Partitions  \n",
       "0  first_name, last_name, company_name, address, ...             "
      ]
     },
     "execution_count": 16,
     "metadata": {},
     "output_type": "execute_result"
    }
   ],
   "source": [
    "wr.catalog.tables(name_contains=\"customer\")"
   ]
  },
  {
   "cell_type": "code",
   "execution_count": 17,
   "id": "dbc96136",
   "metadata": {},
   "outputs": [
    {
     "data": {
      "text/html": [
       "<div>\n",
       "<style scoped>\n",
       "    .dataframe tbody tr th:only-of-type {\n",
       "        vertical-align: middle;\n",
       "    }\n",
       "\n",
       "    .dataframe tbody tr th {\n",
       "        vertical-align: top;\n",
       "    }\n",
       "\n",
       "    .dataframe thead th {\n",
       "        text-align: right;\n",
       "    }\n",
       "</style>\n",
       "<table border=\"1\" class=\"dataframe\">\n",
       "  <thead>\n",
       "    <tr style=\"text-align: right;\">\n",
       "      <th></th>\n",
       "      <th>Database</th>\n",
       "      <th>Table</th>\n",
       "      <th>Description</th>\n",
       "      <th>Columns</th>\n",
       "      <th>Partitions</th>\n",
       "    </tr>\n",
       "  </thead>\n",
       "  <tbody>\n",
       "    <tr>\n",
       "      <th>0</th>\n",
       "      <td>sampledb</td>\n",
       "      <td>elb_logs</td>\n",
       "      <td></td>\n",
       "      <td>request_timestamp, elb_name, request_ip, reque...</td>\n",
       "      <td></td>\n",
       "    </tr>\n",
       "  </tbody>\n",
       "</table>\n",
       "</div>"
      ],
      "text/plain": [
       "   Database     Table Description  \\\n",
       "0  sampledb  elb_logs               \n",
       "\n",
       "                                             Columns Partitions  \n",
       "0  request_timestamp, elb_name, request_ip, reque...             "
      ]
     },
     "execution_count": 17,
     "metadata": {},
     "output_type": "execute_result"
    }
   ],
   "source": [
    "wr.catalog.tables(name_prefix=\"elb\")"
   ]
  },
  {
   "cell_type": "code",
   "execution_count": 19,
   "id": "b3f2a50c",
   "metadata": {},
   "outputs": [
    {
     "data": {
      "text/html": [
       "<div>\n",
       "<style scoped>\n",
       "    .dataframe tbody tr th:only-of-type {\n",
       "        vertical-align: middle;\n",
       "    }\n",
       "\n",
       "    .dataframe tbody tr th {\n",
       "        vertical-align: top;\n",
       "    }\n",
       "\n",
       "    .dataframe thead th {\n",
       "        text-align: right;\n",
       "    }\n",
       "</style>\n",
       "<table border=\"1\" class=\"dataframe\">\n",
       "  <thead>\n",
       "    <tr style=\"text-align: right;\">\n",
       "      <th></th>\n",
       "      <th>Database</th>\n",
       "      <th>Table</th>\n",
       "      <th>Description</th>\n",
       "      <th>Columns</th>\n",
       "      <th>Partitions</th>\n",
       "    </tr>\n",
       "  </thead>\n",
       "  <tbody>\n",
       "    <tr>\n",
       "      <th>0</th>\n",
       "      <td>sampledb</td>\n",
       "      <td>elb_logs</td>\n",
       "      <td></td>\n",
       "      <td>request_timestamp, elb_name, request_ip, reque...</td>\n",
       "      <td></td>\n",
       "    </tr>\n",
       "  </tbody>\n",
       "</table>\n",
       "</div>"
      ],
      "text/plain": [
       "   Database     Table Description  \\\n",
       "0  sampledb  elb_logs               \n",
       "\n",
       "                                             Columns Partitions  \n",
       "0  request_timestamp, elb_name, request_ip, reque...             "
      ]
     },
     "execution_count": 19,
     "metadata": {},
     "output_type": "execute_result"
    }
   ],
   "source": [
    "wr.catalog.tables(name_suffix=\"logs\")"
   ]
  },
  {
   "cell_type": "markdown",
   "id": "783b933a",
   "metadata": {},
   "source": [
    "## Get table details"
   ]
  },
  {
   "cell_type": "code",
   "execution_count": 21,
   "id": "421ba320",
   "metadata": {},
   "outputs": [],
   "source": [
    "customers = wr.catalog.table(database=\"sampledb\", table=\"customer\")"
   ]
  },
  {
   "cell_type": "code",
   "execution_count": 22,
   "id": "bd2b841e",
   "metadata": {},
   "outputs": [
    {
     "data": {
      "text/plain": [
       "pandas.core.frame.DataFrame"
      ]
     },
     "execution_count": 22,
     "metadata": {},
     "output_type": "execute_result"
    }
   ],
   "source": [
    "type(customers)"
   ]
  },
  {
   "cell_type": "code",
   "execution_count": 23,
   "id": "10f1d145",
   "metadata": {},
   "outputs": [
    {
     "data": {
      "text/html": [
       "<div>\n",
       "<style scoped>\n",
       "    .dataframe tbody tr th:only-of-type {\n",
       "        vertical-align: middle;\n",
       "    }\n",
       "\n",
       "    .dataframe tbody tr th {\n",
       "        vertical-align: top;\n",
       "    }\n",
       "\n",
       "    .dataframe thead th {\n",
       "        text-align: right;\n",
       "    }\n",
       "</style>\n",
       "<table border=\"1\" class=\"dataframe\">\n",
       "  <thead>\n",
       "    <tr style=\"text-align: right;\">\n",
       "      <th></th>\n",
       "      <th>Column Name</th>\n",
       "      <th>Type</th>\n",
       "      <th>Partition</th>\n",
       "      <th>Comment</th>\n",
       "    </tr>\n",
       "  </thead>\n",
       "  <tbody>\n",
       "    <tr>\n",
       "      <th>0</th>\n",
       "      <td>first_name</td>\n",
       "      <td>string</td>\n",
       "      <td>False</td>\n",
       "      <td></td>\n",
       "    </tr>\n",
       "    <tr>\n",
       "      <th>1</th>\n",
       "      <td>last_name</td>\n",
       "      <td>string</td>\n",
       "      <td>False</td>\n",
       "      <td></td>\n",
       "    </tr>\n",
       "    <tr>\n",
       "      <th>2</th>\n",
       "      <td>company_name</td>\n",
       "      <td>string</td>\n",
       "      <td>False</td>\n",
       "      <td></td>\n",
       "    </tr>\n",
       "    <tr>\n",
       "      <th>3</th>\n",
       "      <td>address</td>\n",
       "      <td>string</td>\n",
       "      <td>False</td>\n",
       "      <td></td>\n",
       "    </tr>\n",
       "    <tr>\n",
       "      <th>4</th>\n",
       "      <td>city</td>\n",
       "      <td>string</td>\n",
       "      <td>False</td>\n",
       "      <td></td>\n",
       "    </tr>\n",
       "    <tr>\n",
       "      <th>5</th>\n",
       "      <td>county</td>\n",
       "      <td>string</td>\n",
       "      <td>False</td>\n",
       "      <td></td>\n",
       "    </tr>\n",
       "    <tr>\n",
       "      <th>6</th>\n",
       "      <td>state</td>\n",
       "      <td>string</td>\n",
       "      <td>False</td>\n",
       "      <td></td>\n",
       "    </tr>\n",
       "    <tr>\n",
       "      <th>7</th>\n",
       "      <td>zip</td>\n",
       "      <td>string</td>\n",
       "      <td>False</td>\n",
       "      <td></td>\n",
       "    </tr>\n",
       "    <tr>\n",
       "      <th>8</th>\n",
       "      <td>phone1</td>\n",
       "      <td>string</td>\n",
       "      <td>False</td>\n",
       "      <td></td>\n",
       "    </tr>\n",
       "    <tr>\n",
       "      <th>9</th>\n",
       "      <td>phone2</td>\n",
       "      <td>string</td>\n",
       "      <td>False</td>\n",
       "      <td></td>\n",
       "    </tr>\n",
       "    <tr>\n",
       "      <th>10</th>\n",
       "      <td>email</td>\n",
       "      <td>string</td>\n",
       "      <td>False</td>\n",
       "      <td></td>\n",
       "    </tr>\n",
       "    <tr>\n",
       "      <th>11</th>\n",
       "      <td>web</td>\n",
       "      <td>string</td>\n",
       "      <td>False</td>\n",
       "      <td></td>\n",
       "    </tr>\n",
       "  </tbody>\n",
       "</table>\n",
       "</div>"
      ],
      "text/plain": [
       "     Column Name    Type  Partition Comment\n",
       "0     first_name  string      False        \n",
       "1      last_name  string      False        \n",
       "2   company_name  string      False        \n",
       "3        address  string      False        \n",
       "4           city  string      False        \n",
       "5         county  string      False        \n",
       "6          state  string      False        \n",
       "7            zip  string      False        \n",
       "8         phone1  string      False        \n",
       "9         phone2  string      False        \n",
       "10         email  string      False        \n",
       "11           web  string      False        "
      ]
     },
     "execution_count": 23,
     "metadata": {},
     "output_type": "execute_result"
    }
   ],
   "source": [
    "customers"
   ]
  },
  {
   "cell_type": "code",
   "execution_count": 25,
   "id": "fefe4651",
   "metadata": {},
   "outputs": [
    {
     "data": {
      "text/plain": [
       "RangeIndex(start=0, stop=12, step=1)"
      ]
     },
     "execution_count": 25,
     "metadata": {},
     "output_type": "execute_result"
    }
   ],
   "source": [
    "customers.index"
   ]
  },
  {
   "cell_type": "code",
   "execution_count": 34,
   "id": "0a6405e6",
   "metadata": {},
   "outputs": [
    {
     "name": "stdout",
     "output_type": "stream",
     "text": [
      "0 first_name string False\n",
      "1 last_name string False\n",
      "2 company_name string False\n",
      "3 address string False\n",
      "4 city string False\n",
      "5 county string False\n",
      "6 state string False\n",
      "7 zip string False\n",
      "8 phone1 string False\n",
      "9 phone2 string False\n",
      "10 email string False\n",
      "11 web string False\n"
     ]
    }
   ],
   "source": [
    "for index, row in customers.iterrows():\n",
    "    print (index,row[\"Column Name\"], row[\"Type\"], row[\"Partition\"])   "
   ]
  },
  {
   "cell_type": "markdown",
   "id": "7d9d2a40",
   "metadata": {},
   "source": [
    "## Cleaning up the Database"
   ]
  },
  {
   "cell_type": "code",
   "execution_count": 35,
   "id": "0c227c16",
   "metadata": {},
   "outputs": [],
   "source": [
    "for table in wr.catalog.get_tables(database=\"awswrangler_test_db\"):\n",
    "    wr.catalog.delete_table_if_exists(database=\"awswrangler_test_db\", table=table[\"Name\"])"
   ]
  },
  {
   "cell_type": "markdown",
   "id": "c82fc1d6",
   "metadata": {},
   "source": [
    "## Delete Database"
   ]
  },
  {
   "cell_type": "code",
   "execution_count": 36,
   "id": "66e9487c",
   "metadata": {},
   "outputs": [],
   "source": [
    "wr.catalog.delete_database('awswrangler_test_db')"
   ]
  },
  {
   "cell_type": "code",
   "execution_count": 37,
   "id": "8e4fe6a0",
   "metadata": {},
   "outputs": [
    {
     "name": "stdout",
     "output_type": "stream",
     "text": [
      "   Database      Description\n",
      "0   default                 \n",
      "1  sampledb  Sample database\n"
     ]
    }
   ],
   "source": [
    "databases = wr.catalog.databases()\n",
    "print(databases)"
   ]
  }
 ],
 "metadata": {
  "kernelspec": {
   "display_name": "Python 3",
   "language": "python",
   "name": "python3"
  },
  "language_info": {
   "codemirror_mode": {
    "name": "ipython",
    "version": 3
   },
   "file_extension": ".py",
   "mimetype": "text/x-python",
   "name": "python",
   "nbconvert_exporter": "python",
   "pygments_lexer": "ipython3",
   "version": "3.6.9"
  }
 },
 "nbformat": 4,
 "nbformat_minor": 5
}
