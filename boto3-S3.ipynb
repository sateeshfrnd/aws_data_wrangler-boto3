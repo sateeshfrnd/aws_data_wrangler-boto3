{
 "cells": [
  {
   "cell_type": "code",
   "execution_count": 1,
   "id": "f3dc4792",
   "metadata": {},
   "outputs": [],
   "source": [
    "import boto3"
   ]
  },
  {
   "cell_type": "code",
   "execution_count": 2,
   "id": "dd4c45c9",
   "metadata": {},
   "outputs": [],
   "source": [
    "s3client = boto3.client('s3')"
   ]
  },
  {
   "cell_type": "code",
   "execution_count": 89,
   "id": "db1b3bbe",
   "metadata": {},
   "outputs": [],
   "source": [
    "AWS_SERVER_PUBLIC_KEY = ''\n",
    "AWS_SERVER_SECRET_KEY=''\n",
    "REGION_NAME='us-east-1'"
   ]
  },
  {
   "cell_type": "code",
   "execution_count": 76,
   "id": "6afe46e9",
   "metadata": {},
   "outputs": [],
   "source": [
    "s3_client = boto3.client(\n",
    "    's3',\n",
    "    aws_access_key_id=AWS_SERVER_PUBLIC_KEY, \n",
    "    aws_secret_access_key=AWS_SERVER_SECRET_KEY, \n",
    "    region_name=REGION_NAME\n",
    ")"
   ]
  },
  {
   "cell_type": "markdown",
   "id": "1938d63e",
   "metadata": {},
   "source": [
    "##  Create Bucket "
   ]
  },
  {
   "cell_type": "code",
   "execution_count": 3,
   "id": "04fe6a13",
   "metadata": {},
   "outputs": [
    {
     "data": {
      "text/plain": [
       "{'ResponseMetadata': {'RequestId': '95ZEJTEWSCTKZZ8S',\n",
       "  'HostId': 'z+hLUWSx3VCR0w486iicSXwgW3wNG7FpcXRetrzS+ywcUOBGApLkebo+qkv3a70nG39yDVEuD8U=',\n",
       "  'HTTPStatusCode': 200,\n",
       "  'HTTPHeaders': {'x-amz-id-2': 'z+hLUWSx3VCR0w486iicSXwgW3wNG7FpcXRetrzS+ywcUOBGApLkebo+qkv3a70nG39yDVEuD8U=',\n",
       "   'x-amz-request-id': '95ZEJTEWSCTKZZ8S',\n",
       "   'date': 'Fri, 20 Aug 2021 10:27:23 GMT',\n",
       "   'location': '/satish-boto3',\n",
       "   'server': 'AmazonS3',\n",
       "   'content-length': '0'},\n",
       "  'RetryAttempts': 0},\n",
       " 'Location': '/satish-boto3'}"
      ]
     },
     "execution_count": 3,
     "metadata": {},
     "output_type": "execute_result"
    }
   ],
   "source": [
    "s3client.create_bucket(Bucket='satish-boto3')"
   ]
  },
  {
   "cell_type": "markdown",
   "id": "376438da",
   "metadata": {},
   "source": [
    "## List buckets"
   ]
  },
  {
   "cell_type": "code",
   "execution_count": 4,
   "id": "eefda84b",
   "metadata": {},
   "outputs": [],
   "source": [
    "response = s3client.list_buckets()"
   ]
  },
  {
   "cell_type": "code",
   "execution_count": 5,
   "id": "0ee17ba0",
   "metadata": {},
   "outputs": [
    {
     "name": "stdout",
     "output_type": "stream",
     "text": [
      "<class 'dict'>\n"
     ]
    }
   ],
   "source": [
    "print(type(response))"
   ]
  },
  {
   "cell_type": "code",
   "execution_count": 6,
   "id": "b10f80e5",
   "metadata": {},
   "outputs": [
    {
     "data": {
      "text/plain": [
       "{'ResponseMetadata': {'RequestId': 'WD7MTDKXR66AK5CJ',\n",
       "  'HostId': 'OKF1ifZBCQX8wDNiFWp1a6YFK2KQhanjA7rfCZN/giISTOPYRLY+ce7f4uMLQz/qYeiTBCACBHo=',\n",
       "  'HTTPStatusCode': 200,\n",
       "  'HTTPHeaders': {'x-amz-id-2': 'OKF1ifZBCQX8wDNiFWp1a6YFK2KQhanjA7rfCZN/giISTOPYRLY+ce7f4uMLQz/qYeiTBCACBHo=',\n",
       "   'x-amz-request-id': 'WD7MTDKXR66AK5CJ',\n",
       "   'date': 'Fri, 20 Aug 2021 10:27:30 GMT',\n",
       "   'content-type': 'application/xml',\n",
       "   'transfer-encoding': 'chunked',\n",
       "   'server': 'AmazonS3'},\n",
       "  'RetryAttempts': 0},\n",
       " 'Buckets': [{'Name': 'satish-boto3',\n",
       "   'CreationDate': datetime.datetime(2021, 8, 13, 15, 20, 19, tzinfo=tzutc())}],\n",
       " 'Owner': {'DisplayName': 'spendyalasuma_ps',\n",
       "  'ID': '5a81dcf42c2587e095e9562e8e52fd181ef4edf87d07f165dcda753482ed7f1c'}}"
      ]
     },
     "execution_count": 6,
     "metadata": {},
     "output_type": "execute_result"
    }
   ],
   "source": [
    "response"
   ]
  },
  {
   "cell_type": "code",
   "execution_count": 7,
   "id": "b6694368",
   "metadata": {},
   "outputs": [
    {
     "data": {
      "text/plain": [
       "[{'Name': 'satish-boto3',\n",
       "  'CreationDate': datetime.datetime(2021, 8, 13, 15, 20, 19, tzinfo=tzutc())}]"
      ]
     },
     "execution_count": 7,
     "metadata": {},
     "output_type": "execute_result"
    }
   ],
   "source": [
    "response['Buckets']"
   ]
  },
  {
   "cell_type": "code",
   "execution_count": 8,
   "id": "106b50fa",
   "metadata": {},
   "outputs": [
    {
     "data": {
      "text/plain": [
       "'satish-boto3'"
      ]
     },
     "execution_count": 8,
     "metadata": {},
     "output_type": "execute_result"
    }
   ],
   "source": [
    "response['Buckets'][0]['Name']"
   ]
  },
  {
   "cell_type": "markdown",
   "id": "07be666b",
   "metadata": {},
   "source": [
    "## Uploading files to S3"
   ]
  },
  {
   "cell_type": "code",
   "execution_count": 65,
   "id": "1a9ee79b",
   "metadata": {},
   "outputs": [],
   "source": [
    "import os\n",
    "import glob\n",
    "\n",
    "def upload_files_to_S3(input_path, s3_path):\n",
    "    try:\n",
    "        bucket = s3_path.replace('s3://', '').split('/')[0]\n",
    "        print(f'bucket = {bucket}')\n",
    "\n",
    "        s3_obj_key = s3_path.replace(f's3://{bucket}/', '')\n",
    "        print(f's3_obj_key = {s3_obj_key}')\n",
    "            \n",
    "        if os.path.isfile(input_path):\n",
    "            file_name = os.path.split(input_path)[1]\n",
    "            print(f'file_name = {file_name}')\n",
    "            \n",
    "            s3client.upload_file(input_path, bucket, f'{s3_obj_key}/{file_name}')\n",
    "            return True\n",
    "        elif os.path.isdir(input_path):\n",
    "            print('directory')\n",
    "            for file in glob.glob(f'{input_path}/*'):\n",
    "                file_name = os.path.split(file)[1]\n",
    "                print(f'Uploading file {file_name}')                            \n",
    "                s3client.upload_file(file, bucket, f'{s3_obj_key}/{file_name}')\n",
    "            return True\n",
    "    \n",
    "    except Exception as e: \n",
    "        print(f'Fail to upload = {e}')\n",
    "        return False\n",
    "    \n",
    "    "
   ]
  },
  {
   "cell_type": "code",
   "execution_count": 66,
   "id": "e486157c",
   "metadata": {},
   "outputs": [
    {
     "name": "stdout",
     "output_type": "stream",
     "text": [
      "bucket = satish-boto3\n",
      "s3_obj_key = upload\n",
      "file_name = customers.csv\n"
     ]
    },
    {
     "data": {
      "text/plain": [
       "True"
      ]
     },
     "execution_count": 66,
     "metadata": {},
     "output_type": "execute_result"
    }
   ],
   "source": [
    "# upload a file to S3\n",
    "upload_files_to_S3('data/customers.csv','s3://satish-boto3/upload')"
   ]
  },
  {
   "cell_type": "code",
   "execution_count": 67,
   "id": "e1068d7a",
   "metadata": {},
   "outputs": [
    {
     "name": "stdout",
     "output_type": "stream",
     "text": [
      "bucket = satish-boto3\n",
      "s3_obj_key = upload_all\n",
      "directory\n",
      "Uploading file customers.csv\n",
      "Uploading file customers_f.csv\n",
      "Uploading file empty-file.csv\n"
     ]
    },
    {
     "data": {
      "text/plain": [
       "True"
      ]
     },
     "execution_count": 67,
     "metadata": {},
     "output_type": "execute_result"
    }
   ],
   "source": [
    "# upload all files in directory to S3\n",
    "upload_files_to_S3('data','s3://satish-boto3/upload_all')"
   ]
  },
  {
   "cell_type": "code",
   "execution_count": 74,
   "id": "a3428b0e",
   "metadata": {},
   "outputs": [],
   "source": [
    "# upload file with additional optional parameter ExtraArgs \n",
    "s3client.upload_file(\n",
    "    'data/customers.csv',\n",
    "    'satish-boto3', \n",
    "    'upload_extraargs/customers.csv',\n",
    "    ExtraArgs={\n",
    "        'Metadata': {'boto3': 's3'},\n",
    "        'ACL': 'public-read'\n",
    "    }\n",
    ")"
   ]
  },
  {
   "cell_type": "code",
   "execution_count": 68,
   "id": "ed99924e",
   "metadata": {},
   "outputs": [],
   "source": [
    "# upload CSV file which are not empty to S3\n",
    "import os\n",
    "def upload_csv_files_only_to_S3(file_path, s3_path):\n",
    "    try:\n",
    "        if file_path.endswith('.csv') == False:\n",
    "            raise(Exception(\"Not CSV File\"))\n",
    "        \n",
    "        elif os.stat(file_path).st_size == 0 :\n",
    "            raise(Exception(\"File Empty\"))\n",
    "        \n",
    "        else:  \n",
    "            bucket = s3_path.replace('s3://', '').split('/')[0]\n",
    "            print(f'bucket = {bucket}')\n",
    "\n",
    "            s3_obj_key = s3_path.replace(f's3://{bucket}/', '')\n",
    "            print(f's3_obj_key = {s3_obj_key}')\n",
    "        \n",
    "            file_name = os.path.split(file_path)[1]\n",
    "            print(f'Uploading file {file_name}')\n",
    "            \n",
    "            s3client.upload_file(file_path, bucket, f'{s3_obj_key}/{file_name}')\n",
    "            \n",
    "    except Exception as e: \n",
    "        print(f'Fail to upload {e}')\n",
    "        return False\n",
    "    else:\n",
    "        return True"
   ]
  },
  {
   "cell_type": "code",
   "execution_count": 69,
   "id": "44fcde80",
   "metadata": {},
   "outputs": [
    {
     "name": "stdout",
     "output_type": "stream",
     "text": [
      "bucket = satish-boto3\n",
      "s3_obj_key = test2\n",
      "Uploading file customers.csv\n"
     ]
    },
    {
     "data": {
      "text/plain": [
       "True"
      ]
     },
     "execution_count": 69,
     "metadata": {},
     "output_type": "execute_result"
    }
   ],
   "source": [
    "upload_csv_files_only_to_S3('data/customers.csv','s3://satish-boto3/test2')"
   ]
  },
  {
   "cell_type": "code",
   "execution_count": 77,
   "id": "3dc146aa",
   "metadata": {},
   "outputs": [],
   "source": [
    " s3_client.upload_file(\n",
    "    'data/customers.csv',\n",
    "    'satish-boto3', \n",
    "    'upload_extraargs1/customers.csv',\n",
    "    ExtraArgs={\n",
    "        'Metadata': {'boto3': 's3'},\n",
    "        'ACL': 'public-read'\n",
    "    }\n",
    ")"
   ]
  },
  {
   "cell_type": "code",
   "execution_count": null,
   "id": "e463657d",
   "metadata": {},
   "outputs": [],
   "source": []
  }
 ],
 "metadata": {
  "kernelspec": {
   "display_name": "Python 3",
   "language": "python",
   "name": "python3"
  },
  "language_info": {
   "codemirror_mode": {
    "name": "ipython",
    "version": 3
   },
   "file_extension": ".py",
   "mimetype": "text/x-python",
   "name": "python",
   "nbconvert_exporter": "python",
   "pygments_lexer": "ipython3",
   "version": "3.6.9"
  }
 },
 "nbformat": 4,
 "nbformat_minor": 5
}
