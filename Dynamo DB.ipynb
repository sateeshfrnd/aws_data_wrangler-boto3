{
 "cells": [
  {
   "cell_type": "code",
   "execution_count": 42,
   "id": "84299d7d",
   "metadata": {},
   "outputs": [],
   "source": [
    "import boto3\n",
    "dynamodb = boto3.resource('dynamodb', 'us-east-1')"
   ]
  },
  {
   "cell_type": "markdown",
   "id": "c006fb60",
   "metadata": {},
   "source": [
    "## Create Table"
   ]
  },
  {
   "cell_type": "code",
   "execution_count": 43,
   "id": "8b684b84",
   "metadata": {},
   "outputs": [],
   "source": [
    "table_params = {\n",
    "    'TableName': 'customers',\n",
    "    'KeySchema': [\n",
    "        {'AttributeName': 'email', 'KeyType': 'HASH'},\n",
    "        {'AttributeName': 'name', 'KeyType': 'RANGE'}\n",
    "    ],\n",
    "\n",
    "    'AttributeDefinitions': [\n",
    "        {'AttributeName': 'email', 'AttributeType': 'S'},\n",
    "        {'AttributeName': 'name', 'AttributeType': 'S'}\n",
    "    ],\n",
    "        \n",
    "    'ProvisionedThroughput': {\n",
    "        'ReadCapacityUnits': 1,\n",
    "        'WriteCapacityUnits': 1\n",
    "    }\n",
    "}"
   ]
  },
  {
   "cell_type": "code",
   "execution_count": 44,
   "id": "fe9dfb97",
   "metadata": {},
   "outputs": [
    {
     "data": {
      "text/plain": [
       "{'TableName': 'customers',\n",
       " 'KeySchema': [{'AttributeName': 'email', 'KeyType': 'HASH'},\n",
       "  {'AttributeName': 'name', 'KeyType': 'RANGE'}],\n",
       " 'AttributeDefinitions': [{'AttributeName': 'email', 'AttributeType': 'S'},\n",
       "  {'AttributeName': 'name', 'AttributeType': 'S'}],\n",
       " 'ProvisionedThroughput': {'ReadCapacityUnits': 1, 'WriteCapacityUnits': 1}}"
      ]
     },
     "execution_count": 44,
     "metadata": {},
     "output_type": "execute_result"
    }
   ],
   "source": [
    "table_params"
   ]
  },
  {
   "cell_type": "code",
   "execution_count": 46,
   "id": "8a9aec48",
   "metadata": {},
   "outputs": [
    {
     "name": "stdout",
     "output_type": "stream",
     "text": [
      "Creating table_name...\n"
     ]
    }
   ],
   "source": [
    "table = dynamodb.create_table(**table_params)\n",
    "print(\"Creating table_name...\")\n",
    "table.wait_until_exists()"
   ]
  },
  {
   "cell_type": "markdown",
   "id": "01af8cce",
   "metadata": {},
   "source": [
    "## Get tables "
   ]
  },
  {
   "cell_type": "code",
   "execution_count": 47,
   "id": "405703a6",
   "metadata": {},
   "outputs": [
    {
     "data": {
      "text/plain": [
       "dynamodb.tablesCollection(dynamodb.ServiceResource(), dynamodb.Table)"
      ]
     },
     "execution_count": 47,
     "metadata": {},
     "output_type": "execute_result"
    }
   ],
   "source": [
    "dynamodb.tables.all()"
   ]
  },
  {
   "cell_type": "code",
   "execution_count": 54,
   "id": "bd5be491",
   "metadata": {},
   "outputs": [
    {
     "data": {
      "text/plain": [
       "[dynamodb.Table(name='customers')]"
      ]
     },
     "execution_count": 54,
     "metadata": {},
     "output_type": "execute_result"
    }
   ],
   "source": [
    "list(dynamodb.tables.all())"
   ]
  },
  {
   "cell_type": "markdown",
   "id": "9d31ca8e",
   "metadata": {},
   "source": [
    "## Insert Records"
   ]
  },
  {
   "cell_type": "code",
   "execution_count": 55,
   "id": "a18795ad",
   "metadata": {},
   "outputs": [],
   "source": [
    "table = dynamodb.Table('customers')"
   ]
  },
  {
   "cell_type": "code",
   "execution_count": 56,
   "id": "3bf3152a",
   "metadata": {},
   "outputs": [
    {
     "data": {
      "text/plain": [
       "{'ResponseMetadata': {'RequestId': 'P8F4UL5AIS80SGSUEJK0THK21RVV4KQNSO5AEMVJF66Q9ASUAAJG',\n",
       "  'HTTPStatusCode': 200,\n",
       "  'HTTPHeaders': {'server': 'Server',\n",
       "   'date': 'Mon, 23 Aug 2021 16:42:38 GMT',\n",
       "   'content-type': 'application/x-amz-json-1.0',\n",
       "   'content-length': '2',\n",
       "   'connection': 'keep-alive',\n",
       "   'x-amzn-requestid': 'P8F4UL5AIS80SGSUEJK0THK21RVV4KQNSO5AEMVJF66Q9ASUAAJG',\n",
       "   'x-amz-crc32': '2745614147'},\n",
       "  'RetryAttempts': 0}}"
      ]
     },
     "execution_count": 56,
     "metadata": {},
     "output_type": "execute_result"
    }
   ],
   "source": [
    "item = {\n",
    "    'email':'sateeshkumar@gmail.com',\n",
    "    'name':'satish'\n",
    "}\n",
    "\n",
    "table.put_item(\n",
    "   Item = item\n",
    ")"
   ]
  },
  {
   "cell_type": "code",
   "execution_count": 57,
   "id": "9f0a4640",
   "metadata": {},
   "outputs": [
    {
     "data": {
      "text/plain": [
       "{'ResponseMetadata': {'RequestId': 'K12SN58RB26QSNVRM3N30A1Q3BVV4KQNSO5AEMVJF66Q9ASUAAJG',\n",
       "  'HTTPStatusCode': 200,\n",
       "  'HTTPHeaders': {'server': 'Server',\n",
       "   'date': 'Mon, 23 Aug 2021 16:42:41 GMT',\n",
       "   'content-type': 'application/x-amz-json-1.0',\n",
       "   'content-length': '2',\n",
       "   'connection': 'keep-alive',\n",
       "   'x-amzn-requestid': 'K12SN58RB26QSNVRM3N30A1Q3BVV4KQNSO5AEMVJF66Q9ASUAAJG',\n",
       "   'x-amz-crc32': '2745614147'},\n",
       "  'RetryAttempts': 0}}"
      ]
     },
     "execution_count": 57,
     "metadata": {},
     "output_type": "execute_result"
    }
   ],
   "source": [
    "item = {\n",
    "    'email':'sateeshkumar@gmail.com',\n",
    "    'name':'satish Kumar'\n",
    "}\n",
    "\n",
    "table.put_item(\n",
    "   Item = item\n",
    ")"
   ]
  },
  {
   "cell_type": "markdown",
   "id": "4c9df62c",
   "metadata": {},
   "source": [
    "## Read Table"
   ]
  },
  {
   "cell_type": "code",
   "execution_count": 59,
   "id": "e23af9d5",
   "metadata": {},
   "outputs": [],
   "source": [
    "response = table.scan()"
   ]
  },
  {
   "cell_type": "code",
   "execution_count": 60,
   "id": "815f26d0",
   "metadata": {},
   "outputs": [
    {
     "data": {
      "text/plain": [
       "{'Items': [{'email': 'sateeshkumar@gmail.com', 'name': 'satish'},\n",
       "  {'email': 'sateeshkumar@gmail.com', 'name': 'satish Kumar'}],\n",
       " 'Count': 2,\n",
       " 'ScannedCount': 2,\n",
       " 'ResponseMetadata': {'RequestId': 'K872K6H92OVTALFFU141NT4AAVVV4KQNSO5AEMVJF66Q9ASUAAJG',\n",
       "  'HTTPStatusCode': 200,\n",
       "  'HTTPHeaders': {'server': 'Server',\n",
       "   'date': 'Mon, 23 Aug 2021 16:42:53 GMT',\n",
       "   'content-type': 'application/x-amz-json-1.0',\n",
       "   'content-length': '170',\n",
       "   'connection': 'keep-alive',\n",
       "   'x-amzn-requestid': 'K872K6H92OVTALFFU141NT4AAVVV4KQNSO5AEMVJF66Q9ASUAAJG',\n",
       "   'x-amz-crc32': '497066216'},\n",
       "  'RetryAttempts': 0}}"
      ]
     },
     "execution_count": 60,
     "metadata": {},
     "output_type": "execute_result"
    }
   ],
   "source": [
    "response"
   ]
  },
  {
   "cell_type": "code",
   "execution_count": 62,
   "id": "958ac0ff",
   "metadata": {},
   "outputs": [
    {
     "data": {
      "text/plain": [
       "2"
      ]
     },
     "execution_count": 62,
     "metadata": {},
     "output_type": "execute_result"
    }
   ],
   "source": [
    "response['Count']"
   ]
  },
  {
   "cell_type": "code",
   "execution_count": 63,
   "id": "8570ec09",
   "metadata": {},
   "outputs": [
    {
     "data": {
      "text/plain": [
       "[{'email': 'sateeshkumar@gmail.com', 'name': 'satish'},\n",
       " {'email': 'sateeshkumar@gmail.com', 'name': 'satish Kumar'}]"
      ]
     },
     "execution_count": 63,
     "metadata": {},
     "output_type": "execute_result"
    }
   ],
   "source": [
    "response['Items']"
   ]
  },
  {
   "cell_type": "markdown",
   "id": "088f900b",
   "metadata": {},
   "source": [
    "## Delete an Item"
   ]
  },
  {
   "cell_type": "code",
   "execution_count": 64,
   "id": "3361282e",
   "metadata": {},
   "outputs": [
    {
     "data": {
      "text/plain": [
       "{'ResponseMetadata': {'RequestId': 'G5KU8QKDFNOLHB0MLEVI3B7AR7VV4KQNSO5AEMVJF66Q9ASUAAJG',\n",
       "  'HTTPStatusCode': 200,\n",
       "  'HTTPHeaders': {'server': 'Server',\n",
       "   'date': 'Mon, 23 Aug 2021 16:44:26 GMT',\n",
       "   'content-type': 'application/x-amz-json-1.0',\n",
       "   'content-length': '2',\n",
       "   'connection': 'keep-alive',\n",
       "   'x-amzn-requestid': 'G5KU8QKDFNOLHB0MLEVI3B7AR7VV4KQNSO5AEMVJF66Q9ASUAAJG',\n",
       "   'x-amz-crc32': '2745614147'},\n",
       "  'RetryAttempts': 0}}"
      ]
     },
     "execution_count": 64,
     "metadata": {},
     "output_type": "execute_result"
    }
   ],
   "source": [
    "table.delete_item(Key = {'email' :'sateeshkumar@gmail.com', 'name':'satish'})"
   ]
  },
  {
   "cell_type": "code",
   "execution_count": 65,
   "id": "48d2afda",
   "metadata": {},
   "outputs": [
    {
     "data": {
      "text/plain": [
       "{'Items': [{'email': 'sateeshkumar@gmail.com', 'name': 'satish Kumar'}],\n",
       " 'Count': 1,\n",
       " 'ScannedCount': 1,\n",
       " 'ResponseMetadata': {'RequestId': 'PPC365SFA3SAR9K3DNBPA2GS7JVV4KQNSO5AEMVJF66Q9ASUAAJG',\n",
       "  'HTTPStatusCode': 200,\n",
       "  'HTTPHeaders': {'server': 'Server',\n",
       "   'date': 'Mon, 23 Aug 2021 16:44:41 GMT',\n",
       "   'content-type': 'application/x-amz-json-1.0',\n",
       "   'content-length': '107',\n",
       "   'connection': 'keep-alive',\n",
       "   'x-amzn-requestid': 'PPC365SFA3SAR9K3DNBPA2GS7JVV4KQNSO5AEMVJF66Q9ASUAAJG',\n",
       "   'x-amz-crc32': '3120761262'},\n",
       "  'RetryAttempts': 0}}"
      ]
     },
     "execution_count": 65,
     "metadata": {},
     "output_type": "execute_result"
    }
   ],
   "source": [
    "table.scan()"
   ]
  },
  {
   "cell_type": "markdown",
   "id": "1b2be719",
   "metadata": {},
   "source": [
    "## Query"
   ]
  },
  {
   "cell_type": "code",
   "execution_count": 66,
   "id": "31645650",
   "metadata": {},
   "outputs": [],
   "source": [
    "from boto3.dynamodb.conditions import Key"
   ]
  },
  {
   "cell_type": "code",
   "execution_count": 67,
   "id": "8ae4ec55",
   "metadata": {},
   "outputs": [
    {
     "data": {
      "text/plain": [
       "{'Items': [{'email': 'sateeshkumar@gmail.com', 'name': 'satish Kumar'}],\n",
       " 'Count': 1,\n",
       " 'ScannedCount': 1,\n",
       " 'ResponseMetadata': {'RequestId': 'R5B9NH8TVITL18SO77IU5ED5ARVV4KQNSO5AEMVJF66Q9ASUAAJG',\n",
       "  'HTTPStatusCode': 200,\n",
       "  'HTTPHeaders': {'server': 'Server',\n",
       "   'date': 'Mon, 23 Aug 2021 16:51:48 GMT',\n",
       "   'content-type': 'application/x-amz-json-1.0',\n",
       "   'content-length': '107',\n",
       "   'connection': 'keep-alive',\n",
       "   'x-amzn-requestid': 'R5B9NH8TVITL18SO77IU5ED5ARVV4KQNSO5AEMVJF66Q9ASUAAJG',\n",
       "   'x-amz-crc32': '3120761262'},\n",
       "  'RetryAttempts': 0}}"
      ]
     },
     "execution_count": 67,
     "metadata": {},
     "output_type": "execute_result"
    }
   ],
   "source": [
    "table.query(\n",
    "    KeyConditionExpression=Key('email').eq('sateeshkumar@gmail.com')\n",
    ")"
   ]
  },
  {
   "cell_type": "markdown",
   "id": "6adcf709",
   "metadata": {},
   "source": [
    "## Update"
   ]
  },
  {
   "cell_type": "code",
   "execution_count": null,
   "id": "ad4914d4",
   "metadata": {},
   "outputs": [],
   "source": [
    "response = table.update_item(\n",
    "    Key = {'email' :'sateeshkumar@gmail.com', 'name':'satish'},\n",
    "    \n",
    ")"
   ]
  }
 ],
 "metadata": {
  "kernelspec": {
   "display_name": "Python 3",
   "language": "python",
   "name": "python3"
  },
  "language_info": {
   "codemirror_mode": {
    "name": "ipython",
    "version": 3
   },
   "file_extension": ".py",
   "mimetype": "text/x-python",
   "name": "python",
   "nbconvert_exporter": "python",
   "pygments_lexer": "ipython3",
   "version": "3.6.9"
  }
 },
 "nbformat": 4,
 "nbformat_minor": 5
}
